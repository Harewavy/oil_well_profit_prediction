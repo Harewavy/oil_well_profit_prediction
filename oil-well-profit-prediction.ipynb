{
 "cells": [
  {
   "cell_type": "markdown",
   "metadata": {},
   "source": [
    "## **Project Description**\n",
    "\n",
    "The objective of this project was to determine the most profitable region for developing a new oil well for the OilyGiant mining company. The analysis involved building predictive models to estimate the volume of oil reserves in various regions, calculating the potential profit from these estimates, and performing risk analysis to ensure the financial viability of the chosen region."
   ]
  },
  {
   "cell_type": "code",
   "execution_count": 1,
   "metadata": {},
   "outputs": [],
   "source": [
    "import pandas as pd\n",
    "import numpy as np\n",
    "from sklearn.model_selection import train_test_split\n",
    "from sklearn.linear_model import LinearRegression\n",
    "from sklearn.metrics import mean_squared_error"
   ]
  },
  {
   "cell_type": "code",
   "execution_count": 4,
   "metadata": {},
   "outputs": [],
   "source": [
    "geo_data_0 = pd.read_csv('geo_data_0.csv')\n",
    "geo_data_1 = pd.read_csv('geo_data_1.csv')\n",
    "geo_data_2 = pd.read_csv('geo_data_2.csv')"
   ]
  },
  {
   "cell_type": "code",
   "execution_count": 5,
   "metadata": {},
   "outputs": [
    {
     "data": {
      "text/plain": [
       "(      id        f0        f1        f2     product\n",
       " 0  txEyH  0.705745 -0.497823  1.221170  105.280062\n",
       " 1  2acmU  1.334711 -0.340164  4.365080   73.037750\n",
       " 2  409Wp  1.022732  0.151990  1.419926   85.265647\n",
       " 3  iJLyR -0.032172  0.139033  2.978566  168.620776\n",
       " 4  Xdl7t  1.988431  0.155413  4.751769  154.036647,\n",
       "       id         f0         f1        f2     product\n",
       " 0  kBEdx -15.001348  -8.276000 -0.005876    3.179103\n",
       " 1  62mP7  14.272088  -3.475083  0.999183   26.953261\n",
       " 2  vyE1P   6.263187  -5.948386  5.001160  134.766305\n",
       " 3  KcrkZ -13.081196 -11.506057  4.999415  137.945408\n",
       " 4  AHL4O  12.702195  -8.147433  5.004363  134.766305,\n",
       "       id        f0        f1        f2     product\n",
       " 0  fwXo0 -1.146987  0.963328 -0.828965   27.758673\n",
       " 1  WJtFt  0.262778  0.269839 -2.530187   56.069697\n",
       " 2  ovLUW  0.194587  0.289035 -5.586433   62.871910\n",
       " 3  q6cA6  2.236060 -0.553760  0.930038  114.572842\n",
       " 4  WPMUX -0.515993  1.716266  5.899011  149.600746)"
      ]
     },
     "execution_count": 5,
     "metadata": {},
     "output_type": "execute_result"
    }
   ],
   "source": [
    "geo_data_0.head(), geo_data_1.head(), geo_data_2.head()"
   ]
  },
  {
   "cell_type": "code",
   "execution_count": 6,
   "metadata": {},
   "outputs": [
    {
     "data": {
      "text/plain": [
       "(id         0\n",
       " f0         0\n",
       " f1         0\n",
       " f2         0\n",
       " product    0\n",
       " dtype: int64,\n",
       " id         0\n",
       " f0         0\n",
       " f1         0\n",
       " f2         0\n",
       " product    0\n",
       " dtype: int64,\n",
       " id         0\n",
       " f0         0\n",
       " f1         0\n",
       " f2         0\n",
       " product    0\n",
       " dtype: int64)"
      ]
     },
     "execution_count": 6,
     "metadata": {},
     "output_type": "execute_result"
    }
   ],
   "source": [
    "geo_data_0.isnull().sum(), geo_data_1.isnull().sum(), geo_data_2.isnull().sum()"
   ]
  },
  {
   "cell_type": "code",
   "execution_count": 7,
   "metadata": {},
   "outputs": [
    {
     "data": {
      "text/plain": [
       "((75000, 5), (25000, 5), (75000, 5), (25000, 5), (75000, 5), (25000, 5))"
      ]
     },
     "execution_count": 7,
     "metadata": {},
     "output_type": "execute_result"
    }
   ],
   "source": [
    "train_0, val_0 = train_test_split(geo_data_0, test_size=0.25, random_state=42)\n",
    "train_1, val_1 = train_test_split(geo_data_1, test_size=0.25, random_state=42)\n",
    "train_2, val_2 = train_test_split(geo_data_2, test_size=0.25, random_state=42)\n",
    "\n",
    "train_0.shape, val_0.shape, train_1.shape, val_1.shape, train_2.shape, val_2.shape"
   ]
  },
  {
   "cell_type": "markdown",
   "metadata": {},
   "source": [
    "- Confirmed the data is clean with no missing values.\n",
    "- Each dataset was split into a training set (75%) and a validation set (25%)."
   ]
  },
  {
   "cell_type": "code",
   "execution_count": 8,
   "metadata": {},
   "outputs": [],
   "source": [
    "def train_and_evaluate(train_data, val_data):\n",
    "    X_train = train_data[['f0', 'f1', 'f2']]\n",
    "    y_train = train_data['product']\n",
    "    X_val = val_data[['f0', 'f1', 'f2']]\n",
    "    y_val = val_data['product']\n",
    "    \n",
    "    model = LinearRegression()\n",
    "    model.fit(X_train, y_train)\n",
    "    \n",
    "    predictions = model.predict(X_val)\n",
    "    rmse = mean_squared_error(y_val, predictions, squared=False)\n",
    "    avg_predicted_reserves = predictions.mean()\n",
    "    \n",
    "    return predictions, y_val, rmse, avg_predicted_reserves"
   ]
  },
  {
   "cell_type": "code",
   "execution_count": 9,
   "metadata": {},
   "outputs": [
    {
     "data": {
      "text/plain": [
       "(37.75660035026169,\n",
       " 92.3987999065777,\n",
       " 0.8902801001028817,\n",
       " 68.71287803913762,\n",
       " 40.145872311342174,\n",
       " 94.7710238776594)"
      ]
     },
     "execution_count": 9,
     "metadata": {},
     "output_type": "execute_result"
    }
   ],
   "source": [
    "results_0 = train_and_evaluate(train_0, val_0)\n",
    "results_1 = train_and_evaluate(train_1, val_1)\n",
    "results_2 = train_and_evaluate(train_2, val_2)\n",
    "\n",
    "rmse_0, avg_pred_reserves_0 = results_0[2], results_0[3]\n",
    "rmse_1, avg_pred_reserves_1 = results_1[2], results_1[3]\n",
    "rmse_2, avg_pred_reserves_2 = results_2[2], results_2[3]\n",
    "\n",
    "rmse_0, avg_pred_reserves_0, rmse_1, avg_pred_reserves_1, rmse_2, avg_pred_reserves_2"
   ]
  },
  {
   "cell_type": "markdown",
   "metadata": {},
   "source": [
    "- **Region 0**: RMSE = 37.76, Average Reserves = 92.40 thousand barrels\n",
    "- **Region 1**: RMSE = 0.89, Average Reserves = 68.71 thousand barrels\n",
    "- **Region 2**: RMSE = 40.15, Average Reserves = 94.77 thousand barrels"
   ]
  },
  {
   "cell_type": "code",
   "execution_count": 10,
   "metadata": {},
   "outputs": [
    {
     "data": {
      "text/plain": [
       "111.11111111111111"
      ]
     },
     "execution_count": 10,
     "metadata": {},
     "output_type": "execute_result"
    }
   ],
   "source": [
    "budget = 100e6\n",
    "num_wells = 200\n",
    "revenue_per_barrel = 4.5e3 \n",
    "min_reserves = budget / (num_wells * revenue_per_barrel)\n",
    "min_reserves"
   ]
  },
  {
   "cell_type": "markdown",
   "metadata": {},
   "source": [
    "- Minimum reserves required for profitability: 111.11 thousand barrels\n",
    "- None of the regions meet this threshold on average, requiring selective well development.\n"
   ]
  },
  {
   "cell_type": "code",
   "execution_count": 11,
   "metadata": {},
   "outputs": [
    {
     "data": {
      "text/plain": [
       "(33591411.14462179, 24150866.966815114, 25985717.59374112)"
      ]
     },
     "execution_count": 11,
     "metadata": {},
     "output_type": "execute_result"
    }
   ],
   "source": [
    "def calculate_profit(predictions, target, num_wells, budget, revenue_per_barrel):\n",
    "    \n",
    "    predictions = predictions.reset_index(drop=True)\n",
    "    target = target.reset_index(drop=True)\n",
    "    selected_indices = predictions.sort_values(ascending=False).index[:num_wells]\n",
    "    selected_reserves = target.loc[selected_indices]\n",
    "    total_revenue = selected_reserves.sum() * revenue_per_barrel\n",
    "    profit = total_revenue - budget\n",
    "    \n",
    "    return profit\n",
    "\n",
    "profit_0 = calculate_profit(pd.Series(results_0[0]), results_0[1], num_wells, budget, revenue_per_barrel)\n",
    "profit_1 = calculate_profit(pd.Series(results_1[0]), results_1[1], num_wells, budget, revenue_per_barrel)\n",
    "profit_2 = calculate_profit(pd.Series(results_2[0]), results_2[1], num_wells, budget, revenue_per_barrel)\n",
    "\n",
    "profit_0, profit_1, profit_2"
   ]
  },
  {
   "cell_type": "markdown",
   "metadata": {},
   "source": [
    "- **Region 0**: Expected profit = \\$33.59 million\n",
    "- **Region 1**: Expected profit = \\$24.15 million\n",
    "- **Region 2**: Expected profit = \\$25.99 million"
   ]
  },
  {
   "cell_type": "code",
   "execution_count": 12,
   "metadata": {},
   "outputs": [
    {
     "data": {
      "text/plain": [
       "((3974506.9685117737, -1063334.0632409106, 8998406.131622046, 6.7),\n",
       " (4519940.928534534, 596225.55185312, 8309269.211707684, 1.0),\n",
       " (3737761.251407242, -1443179.749425677, 8918476.40290279, 7.9))"
      ]
     },
     "execution_count": 12,
     "metadata": {},
     "output_type": "execute_result"
    }
   ],
   "source": [
    "def bootstrap_profit(predictions, target, num_wells, budget, revenue_per_barrel, n_samples=1000, sample_size=500):\n",
    "    profits = []\n",
    "    \n",
    "    predictions = predictions.reset_index(drop=True)\n",
    "    target = target.reset_index(drop=True)\n",
    "    \n",
    "    for _ in range(n_samples):\n",
    "\n",
    "        sample_indices = predictions.sample(n=sample_size, replace=True).index\n",
    "        sample_predictions = predictions.loc[sample_indices]\n",
    "        sample_target = target.loc[sample_indices]\n",
    "        profit = calculate_profit(sample_predictions, sample_target, num_wells, budget, revenue_per_barrel)\n",
    "        profits.append(profit)\n",
    "    \n",
    "    profits = np.array(profits)\n",
    "    mean_profit = np.mean(profits)\n",
    "    lower_ci = np.percentile(profits, 2.5)\n",
    "    upper_ci = np.percentile(profits, 97.5)\n",
    "    risk_of_loss = np.mean(profits < 0) * 100 \n",
    "    \n",
    "    return mean_profit, lower_ci, upper_ci, risk_of_loss\n",
    "\n",
    "bootstrap_results_0 = bootstrap_profit(pd.Series(results_0[0]), results_0[1], num_wells, budget, revenue_per_barrel)\n",
    "bootstrap_results_1 = bootstrap_profit(pd.Series(results_1[0]), results_1[1], num_wells, budget, revenue_per_barrel)\n",
    "bootstrap_results_2 = bootstrap_profit(pd.Series(results_2[0]), results_2[1], num_wells, budget, revenue_per_barrel)\n",
    "\n",
    "bootstrap_results_0, bootstrap_results_1, bootstrap_results_2"
   ]
  },
  {
   "cell_type": "markdown",
   "metadata": {},
   "source": [
    "Based on the updated bootstrapping results, the expected profits and associated risks for each region are as follows:\n",
    "\n",
    "- **Region 0**: \n",
    "  - **Mean Profit**: \\$4.16 million\n",
    "  - **95% Confidence Interval**: [-\\$644,543.87, \\$9.06 million]\n",
    "  - **Risk of Loss**: 4.6%\n",
    "\n",
    "- **Region 1**: \n",
    "  - **Mean Profit**: \\$4.43 million\n",
    "  - **95% Confidence Interval**: [\\$524,866.79, \\$8.29 million]\n",
    "  - **Risk of Loss**: 1.4%\n",
    "\n",
    "- **Region 2**: \n",
    "  - **Mean Profit**: \\$3.75 million\n",
    "  - **95% Confidence Interval**: [-\\$1.40 million, \\$9.24 million]\n",
    "  - **Risk of Loss**: 7.3%"
   ]
  },
  {
   "cell_type": "markdown",
   "metadata": {},
   "source": [
    "### 1.1 Final Conclusion\n",
    "\n",
    "After conducting a comprehensive analysis of the three potential regions for oil well development, we have formulated a data-driven recommendation for OilyGiant mining company. The analysis involved several critical steps:\n",
    "\n",
    "- **Modeling and Prediction**: Linear regression models were developed to predict the volume of oil reserves in each region. These models were rigorously evaluated using RMSE and the average predicted reserves to ensure their accuracy and reliability.\n",
    "\n",
    "- **Profitability Assessment**: We calculated the minimum reserves required for a well to be profitable and compared these thresholds with the predicted reserves. The calculated profits for the top 200 wells in each region provided a clear understanding of the potential financial outcomes.\n",
    "\n",
    "- **Risk Analysis**: Utilizing the bootstrapping technique, we simulated 1,000 different profit scenarios to evaluate the variability and risk associated with each region's profit estimates. This step was essential for understanding not only the potential profit but also the financial risk involved.\n",
    "\n",
    "### 1.2 Key Findings\n",
    "\n",
    "- **Region 1** emerges as the most favorable option with an expected mean profit of **\\$4.43 million**. The 95% confidence interval ranges from **\\$524,867 to \\$8.29 million**, indicating a stable and predictable profit margin. Additionally, the risk of loss is relatively low at **1.4%**, making Region 1 the safest and most profitable choice.\n",
    "\n",
    "- **Region 0** shows a mean profit of **\\$4.16 million**, with a 95% confidence interval between **-\\$644,544 and \\$9.06 million**. The risk of loss is **4.6%**, which is higher than Region 1. Although there is potential for profit, the increased risk may make this region less attractive depending on the company’s risk tolerance.\n",
    "\n",
    "- **Region 2** presents the lowest mean profit at **\\$3.75 million** and the highest risk of loss at **7.3%**. The confidence interval ranges from **-\\$1.40 million to \\$9.24 million**, indicating significant uncertainty in outcomes. This makes Region 2 the least favorable for development.\n",
    "\n",
    "### 1.3 Recommendation\n",
    "\n",
    "Based on the updated analysis:\n",
    "\n",
    "- **Region 1** is recommended as the optimal location for developing new oil wells. It offers the highest expected profit with minimal financial risk, ensuring both stability and maximized returns on investment.\n",
    "\n",
    "- **Region 0** could be considered as a secondary option. Although it has a slightly lower mean profit and a higher risk of loss, it still presents a viable opportunity depending on the company’s appetite for risk.\n",
    "\n",
    "- **Region 2**, with the lowest profit potential and the highest risk, is not recommended for further development due to its significant financial uncertainty.\n",
    "\n",
    "This recommendation ensures that OilyGiant's investment strategy is aligned with its goals of maximizing profit while minimizing risk, ultimately securing the best possible outcome for the company's future development projects."
   ]
  }
 ],
 "metadata": {
  "ExecuteTimeLog": [
   {
    "duration": 833,
    "start_time": "2024-09-10T20:03:31.460Z"
   },
   {
    "duration": 951,
    "start_time": "2024-09-10T20:03:48.994Z"
   },
   {
    "duration": 303,
    "start_time": "2024-09-10T20:03:52.477Z"
   },
   {
    "duration": 12,
    "start_time": "2024-09-10T20:03:56.949Z"
   },
   {
    "duration": 15,
    "start_time": "2024-09-10T20:04:03.239Z"
   },
   {
    "duration": 60,
    "start_time": "2024-09-10T20:04:09.374Z"
   },
   {
    "duration": 3,
    "start_time": "2024-09-10T20:04:14.369Z"
   },
   {
    "duration": 29,
    "start_time": "2024-09-10T20:04:19.252Z"
   },
   {
    "duration": 4,
    "start_time": "2024-09-10T20:07:10.353Z"
   },
   {
    "duration": 14,
    "start_time": "2024-09-10T20:15:10.307Z"
   },
   {
    "duration": 4,
    "start_time": "2024-09-10T20:15:32.713Z"
   },
   {
    "duration": 4,
    "start_time": "2024-09-10T20:15:57.078Z"
   },
   {
    "duration": 8287,
    "start_time": "2024-09-10T20:16:18.000Z"
   },
   {
    "duration": 8322,
    "start_time": "2024-09-10T20:16:28.755Z"
   },
   {
    "duration": 6,
    "start_time": "2024-09-10T20:30:56.870Z"
   },
   {
    "duration": 7,
    "start_time": "2024-09-10T21:32:29.655Z"
   },
   {
    "duration": 160,
    "start_time": "2024-09-11T00:10:44.997Z"
   },
   {
    "duration": 731,
    "start_time": "2024-09-11T00:10:50.177Z"
   },
   {
    "duration": 351,
    "start_time": "2024-09-11T00:10:51.379Z"
   },
   {
    "duration": 13,
    "start_time": "2024-09-11T00:10:51.826Z"
   },
   {
    "duration": 21,
    "start_time": "2024-09-11T00:10:52.503Z"
   },
   {
    "duration": 40,
    "start_time": "2024-09-11T00:10:53.097Z"
   },
   {
    "duration": 4,
    "start_time": "2024-09-11T00:10:54.008Z"
   },
   {
    "duration": 103,
    "start_time": "2024-09-11T00:10:54.501Z"
   },
   {
    "duration": 4,
    "start_time": "2024-09-11T00:10:56.960Z"
   },
   {
    "duration": 13,
    "start_time": "2024-09-11T00:10:58.631Z"
   },
   {
    "duration": 8033,
    "start_time": "2024-09-11T00:10:59.966Z"
   },
   {
    "duration": 14,
    "start_time": "2024-09-11T00:23:04.423Z"
   },
   {
    "duration": 2400,
    "start_time": "2024-09-11T00:23:22.406Z"
   },
   {
    "duration": 8935,
    "start_time": "2024-09-11T00:23:55.615Z"
   },
   {
    "duration": 2380,
    "start_time": "2024-09-11T00:24:11.146Z"
   },
   {
    "duration": 2345,
    "start_time": "2024-09-11T00:24:17.041Z"
   },
   {
    "duration": 2346,
    "start_time": "2024-09-11T00:24:27.114Z"
   },
   {
    "duration": 2386,
    "start_time": "2024-09-11T00:24:46.646Z"
   },
   {
    "duration": 2396,
    "start_time": "2024-09-11T00:25:04.423Z"
   }
  ],
  "kernelspec": {
   "display_name": "Python 3 (ipykernel)",
   "language": "python",
   "name": "python3"
  },
  "language_info": {
   "codemirror_mode": {
    "name": "ipython",
    "version": 3
   },
   "file_extension": ".py",
   "mimetype": "text/x-python",
   "name": "python",
   "nbconvert_exporter": "python",
   "pygments_lexer": "ipython3",
   "version": "3.11.7"
  },
  "toc": {
   "base_numbering": 1,
   "nav_menu": {},
   "number_sections": true,
   "sideBar": true,
   "skip_h1_title": true,
   "title_cell": "Table of Contents",
   "title_sidebar": "Contents",
   "toc_cell": false,
   "toc_position": {},
   "toc_section_display": true,
   "toc_window_display": false
  }
 },
 "nbformat": 4,
 "nbformat_minor": 4
}
